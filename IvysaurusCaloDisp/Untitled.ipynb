{
 "cells": [
  {
   "cell_type": "code",
   "execution_count": 1,
   "id": "61b85d25",
   "metadata": {},
   "outputs": [],
   "source": [
    "import numpy as np\n",
    "import math\n",
    "import glob\n",
    "import sys\n",
    "import sklearn \n",
    "\n",
    "import FileHelper"
   ]
  },
  {
   "cell_type": "code",
   "execution_count": 2,
   "id": "287e305c",
   "metadata": {},
   "outputs": [],
   "source": [
    "dimensions = 24\n",
    "nClasses = 5"
   ]
  },
  {
   "cell_type": "code",
   "execution_count": null,
   "id": "7725ca77",
   "metadata": {},
   "outputs": [],
   "source": []
  },
  {
   "cell_type": "code",
   "execution_count": null,
   "id": "08325e98",
   "metadata": {},
   "outputs": [],
   "source": []
  },
  {
   "cell_type": "code",
   "execution_count": null,
   "id": "8d7d3118",
   "metadata": {},
   "outputs": [],
   "source": []
  },
  {
   "cell_type": "code",
   "execution_count": 3,
   "id": "d9b7abfb",
   "metadata": {},
   "outputs": [
    {
     "name": "stdout",
     "output_type": "stream",
     "text": [
      "['/Users/isobel/Desktop/DUNE/Ivysaurus/files/gaussian/nu/ivysaurus_nu_5.root']\n"
     ]
    }
   ],
   "source": [
    "###########################################################\n",
    "\n",
    "file = 'nu/ivysaurus_nu_5'\n",
    "\n",
    "fileNames = glob.glob('/Users/isobel/Desktop/DUNE/Ivysaurus/files/gaussian/' + file + '.root')\n",
    "trainVarFile = '/Users/isobel/Desktop/DUNE/Ivysaurus/files/gaussian/' + file + '.npz'\n",
    "print(fileNames)\n",
    "\n",
    "###########################################################"
   ]
  },
  {
   "cell_type": "code",
   "execution_count": 4,
   "id": "7a5628b4",
   "metadata": {},
   "outputs": [
    {
     "name": "stdout",
     "output_type": "stream",
     "text": [
      "Reading tree:  /Users/isobel/Desktop/DUNE/Ivysaurus/files/gaussian/nu/ivysaurus_nu_5.root , This may take a while...\n",
      "We have  124903  PFParticles overall!\n",
      "nMuons:  32408\n",
      "nProtons:  36801\n",
      "nPions:  28211\n",
      "nElectrons:  1379\n",
      "nPhotons:  26104\n"
     ]
    }
   ],
   "source": [
    "# Read tree\n",
    "nEntries, startGridU_calo, startGridV_calo, startGridW_calo, endGridU_calo, endGridV_calo, endGridW_calo, startGridU_disp, startGridV_disp, startGridW_disp, endGridU_disp, endGridV_disp, endGridW_disp, trackVars, showerVars, y = FileHelper.readTree(fileNames, dimensions, nClasses)"
   ]
  },
  {
   "cell_type": "code",
   "execution_count": null,
   "id": "e6fa7d4d",
   "metadata": {},
   "outputs": [],
   "source": []
  },
  {
   "cell_type": "code",
   "execution_count": 5,
   "id": "8588718c",
   "metadata": {},
   "outputs": [],
   "source": [
    "# This should shuffle things so that the indicies are still linked\n",
    "startGridU_calo, startGridV_calo, startGridW_calo, endGridU_calo, endGridV_calo, endGridW_calo, startGridU_disp, startGridV_disp, startGridW_disp, endGridU_disp, endGridV_disp, endGridW_disp, trackVars, showerVars, y = sklearn.utils.shuffle(startGridU_calo, startGridV_calo, startGridW_calo, endGridU_calo, endGridV_calo, endGridW_calo, startGridU_disp, startGridV_disp, startGridW_disp, endGridU_disp, endGridV_disp, endGridW_disp, trackVars, showerVars, y)"
   ]
  },
  {
   "cell_type": "code",
   "execution_count": null,
   "id": "0fa5bb9b",
   "metadata": {},
   "outputs": [],
   "source": []
  },
  {
   "cell_type": "code",
   "execution_count": 6,
   "id": "908fa3e5",
   "metadata": {},
   "outputs": [
    {
     "name": "stdout",
     "output_type": "stream",
     "text": [
      "ntrain:  101815\n",
      "ntest:  11312\n"
     ]
    }
   ],
   "source": [
    "\n",
    "# Write file\n",
    "\n",
    "ntest = math.floor(nEntries * 0.1)\n",
    "ntrain = math.floor(nEntries * 0.9)\n",
    "\n",
    "print('ntrain: ', ntrain)\n",
    "print('ntest: ', ntest)\n",
    "\n",
    "\n",
    "# Calo grids\n",
    "startGridU_calo_train = startGridU_calo[:ntrain]\n",
    "startGridV_calo_train = startGridV_calo[:ntrain]\n",
    "startGridW_calo_train = startGridW_calo[:ntrain]\n",
    "\n",
    "endGridU_calo_train = endGridU_calo[:ntrain]\n",
    "endGridV_calo_train = endGridV_calo[:ntrain]\n",
    "endGridW_calo_train = endGridW_calo[:ntrain]\n",
    "\n",
    "startGridU_calo_test = startGridU_calo[ntrain:(ntrain + ntest)]\n",
    "startGridV_calo_test = startGridV_calo[ntrain:(ntrain + ntest)]\n",
    "startGridW_calo_test = startGridW_calo[ntrain:(ntrain + ntest)]\n",
    "\n",
    "endGridU_calo_test = endGridU_calo[ntrain:(ntrain + ntest)]\n",
    "endGridV_calo_test = endGridV_calo[ntrain:(ntrain + ntest)]\n",
    "endGridW_calo_test = endGridW_calo[ntrain:(ntrain + ntest)]\n",
    "    \n",
    "# Disp grids\n",
    "startGridU_disp_train = startGridU_disp[:ntrain]\n",
    "startGridV_disp_train = startGridV_disp[:ntrain]\n",
    "startGridW_disp_train = startGridW_disp[:ntrain]\n",
    "\n",
    "endGridU_disp_train = endGridU_disp[:ntrain]\n",
    "endGridV_disp_train = endGridV_disp[:ntrain]\n",
    "endGridW_disp_train = endGridW_disp[:ntrain]\n",
    "\n",
    "startGridU_disp_test = startGridU_disp[ntrain:(ntrain + ntest)]\n",
    "startGridV_disp_test = startGridV_disp[ntrain:(ntrain + ntest)]\n",
    "startGridW_disp_test = startGridW_disp[ntrain:(ntrain + ntest)]\n",
    "\n",
    "endGridU_disp_test = endGridU_disp[ntrain:(ntrain + ntest)]\n",
    "endGridV_disp_test = endGridV_disp[ntrain:(ntrain + ntest)]\n",
    "endGridW_disp_test = endGridW_disp[ntrain:(ntrain + ntest)]\n",
    "\n",
    "# Track/shower variables\n",
    "trackVars_train = trackVars[:ntrain]    \n",
    "showerVars_train = showerVars[:ntrain]\n",
    "\n",
    "trackVars_test = trackVars[ntrain:(ntrain + ntest)]\n",
    "showerVars_test = showerVars[ntrain:(ntrain + ntest)]\n",
    "\n",
    "# Truth\n",
    "y_train = y[:ntrain]\n",
    "y_test = y[ntrain:(ntrain + ntest)]\n",
    "    \n",
    "np.savez(trainVarFile, \n",
    "         startGridU_calo_train=startGridU_calo_train, startGridV_calo_train=startGridV_calo_train, \n",
    "         startGridW_calo_train=startGridW_calo_train, \n",
    "         endGridU_calo_train=endGridU_calo_train, endGridV_calo_train=endGridV_calo_train, \n",
    "         endGridW_calo_train=endGridW_calo_train, \n",
    "         startGridU_calo_test=startGridU_calo_test, startGridV_calo_test=startGridV_calo_test, \n",
    "         startGridW_calo_test=startGridW_calo_test, \n",
    "         endGridU_calo_test=endGridU_calo_test, endGridV_calo_test=endGridV_calo_test, \n",
    "         endGridW_calo_test=endGridW_calo_test,\n",
    "         startGridU_disp_train=startGridU_disp_train, startGridV_disp_train=startGridV_disp_train, \n",
    "         startGridW_disp_train=startGridW_disp_train, \n",
    "         endGridU_disp_train=endGridU_disp_train, endGridV_disp_train=endGridV_disp_train,\n",
    "         endGridW_disp_train=endGridW_disp_train, \n",
    "         startGridU_disp_test=startGridU_disp_test, startGridV_disp_test=startGridV_disp_test, \n",
    "         startGridW_disp_test=startGridW_disp_test, \n",
    "         endGridU_disp_test=endGridU_disp_test, endGridV_disp_test=endGridV_disp_test, \n",
    "         endGridW_disp_test=endGridW_disp_test,\n",
    "         trackVars_train=trackVars_train, showerVars_train=showerVars_train,\n",
    "         trackVars_test=trackVars_test, showerVars_test=showerVars_test,\n",
    "         y_train=y_train, y_test=y_test)   \n"
   ]
  },
  {
   "cell_type": "code",
   "execution_count": 7,
   "id": "d8bf934e",
   "metadata": {},
   "outputs": [
    {
     "name": "stdout",
     "output_type": "stream",
     "text": [
      "startGridU_calo_train:  (101815, 24, 24, 1)\n",
      "startGridV_calo_train:  (101815, 24, 24, 1)\n",
      "startGridW_calo_train:  (101815, 24, 24, 1)\n",
      "endGridU_calo_train:  (101815, 24, 24, 1)\n",
      "endGridV_calo_train:  (101815, 24, 24, 1)\n",
      "endGridW_calo_train:  (101815, 24, 24, 1)\n",
      "startGridU_calo_test:  (11312, 24, 24, 1)\n",
      "startGridV_calo_test:  (11312, 24, 24, 1)\n",
      "startGridW_calo_test:  (11312, 24, 24, 1)\n",
      "endGridU_calo_test:  (11312, 24, 24, 1)\n",
      "endGridV_calo_test:  (11312, 24, 24, 1)\n",
      "endGridW_calo_test:  (11312, 24, 24, 1)\n",
      "startGridU_disp_train:  (101815, 24, 24, 1)\n",
      "startGridV_disp_train:  (101815, 24, 24, 1)\n",
      "startGridW_disp_train:  (101815, 24, 24, 1)\n",
      "endGridU_disp_train:  (101815, 24, 24, 1)\n",
      "endGridV_disp_train:  (101815, 24, 24, 1)\n",
      "endGridW_disp_train:  (101815, 24, 24, 1)\n",
      "startGridU_disp_test:  (11312, 24, 24, 1)\n",
      "startGridV_disp_test:  (11312, 24, 24, 1)\n",
      "startGridW_disp_test:  (11312, 24, 24, 1)\n",
      "endGridU_disp_test:  (11312, 24, 24, 1)\n",
      "endGridV_disp_test:  (11312, 24, 24, 1)\n",
      "endGridW_disp_test:  (11312, 24, 24, 1)\n",
      "trackVars_train:  (101815, 10)\n",
      "showerVars_train:  (101815, 3)\n",
      "trackVars_test:  (11312, 10)\n",
      "showerVars_test:  (11312, 3)\n",
      "y_train:  (101815, 5)\n",
      "y_test (11312, 5)\n"
     ]
    }
   ],
   "source": [
    "# Calo grid\n",
    "print('startGridU_calo_train: ', startGridU_calo_train.shape)\n",
    "print('startGridV_calo_train: ', startGridV_calo_train.shape)\n",
    "print('startGridW_calo_train: ', startGridW_calo_train.shape)\n",
    "\n",
    "print('endGridU_calo_train: ', endGridU_calo_train.shape)    \n",
    "print('endGridV_calo_train: ', endGridV_calo_train.shape)\n",
    "print('endGridW_calo_train: ', endGridW_calo_train.shape)\n",
    "\n",
    "print('startGridU_calo_test: ', startGridU_calo_test.shape)\n",
    "print('startGridV_calo_test: ', startGridV_calo_test.shape)\n",
    "print('startGridW_calo_test: ', startGridW_calo_test.shape)\n",
    "   \n",
    "print('endGridU_calo_test: ', endGridU_calo_test.shape)     \n",
    "print('endGridV_calo_test: ', endGridV_calo_test.shape)     \n",
    "print('endGridW_calo_test: ', endGridW_calo_test.shape) \n",
    "\n",
    "# Disp grid\n",
    "print('startGridU_disp_train: ', startGridU_disp_train.shape)\n",
    "print('startGridV_disp_train: ', startGridV_disp_train.shape)\n",
    "print('startGridW_disp_train: ', startGridW_disp_train.shape)\n",
    "\n",
    "print('endGridU_disp_train: ', endGridU_disp_train.shape)    \n",
    "print('endGridV_disp_train: ', endGridV_disp_train.shape)\n",
    "print('endGridW_disp_train: ', endGridW_disp_train.shape)\n",
    "\n",
    "print('startGridU_disp_test: ', startGridU_disp_test.shape)\n",
    "print('startGridV_disp_test: ', startGridV_disp_test.shape)\n",
    "print('startGridW_disp_test: ', startGridW_disp_test.shape)\n",
    "   \n",
    "print('endGridU_disp_test: ', endGridU_disp_test.shape)     \n",
    "print('endGridV_disp_test: ', endGridV_disp_test.shape)     \n",
    "print('endGridW_disp_test: ', endGridW_disp_test.shape) \n",
    "\n",
    "# Track/shower vars\n",
    "print('trackVars_train: ', trackVars_train.shape)  \n",
    "print('showerVars_train: ', showerVars_train.shape)  \n",
    "print('trackVars_test: ', trackVars_test.shape)  \n",
    "print('showerVars_test: ', showerVars_test.shape)  \n",
    "\n",
    "# Truth\n",
    "print('y_train: ', y_train.shape)\n",
    "print('y_test', y_test.shape)"
   ]
  },
  {
   "cell_type": "code",
   "execution_count": null,
   "id": "3d826c4b",
   "metadata": {},
   "outputs": [],
   "source": []
  },
  {
   "cell_type": "code",
   "execution_count": null,
   "id": "9722b83f",
   "metadata": {},
   "outputs": [],
   "source": []
  }
 ],
 "metadata": {
  "kernelspec": {
   "display_name": "Python 3 (ipykernel)",
   "language": "python",
   "name": "python3"
  },
  "language_info": {
   "codemirror_mode": {
    "name": "ipython",
    "version": 3
   },
   "file_extension": ".py",
   "mimetype": "text/x-python",
   "name": "python",
   "nbconvert_exporter": "python",
   "pygments_lexer": "ipython3",
   "version": "3.11.4"
  }
 },
 "nbformat": 4,
 "nbformat_minor": 5
}

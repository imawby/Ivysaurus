{
 "cells": [
  {
   "cell_type": "code",
   "execution_count": 1,
   "id": "43c8fb73",
   "metadata": {},
   "outputs": [],
   "source": [
    "import uproot\n",
    "import matplotlib.pyplot as plt\n",
    "import numpy as np\n",
    "import math\n",
    "\n",
    "from tensorflow import keras\n",
    "from tensorflow.keras import layers\n",
    "from tensorflow.keras.utils import to_categorical\n",
    "from tensorflow.keras import optimizers\n",
    "\n",
    "import sklearn \n",
    "from sklearn.metrics import confusion_matrix\n",
    "\n",
    "import IvysaurusModel\n",
    "import FileHelper"
   ]
  },
  {
   "cell_type": "code",
   "execution_count": 2,
   "id": "d5c3486c",
   "metadata": {},
   "outputs": [
    {
     "name": "stdout",
     "output_type": "stream",
     "text": [
      "Got a total of  4  PFParticle images\n",
      "Buuuuut... some will be empty\n"
     ]
    }
   ],
   "source": [
    "file = uproot.open('/Users/isobel/Desktop/DUNE/Ivysaurus/files/IvysaurusTrainingFiles_numu.root')\n",
    "tree = file['ivyTrain/ivysaur']\n",
    "branches = tree.arrays()\n",
    "#print(tree.keys())\n",
    "\n",
    "# How many entries do we have?\n",
    "print(\"Got a total of \", len(branches), \" PFParticle images\")\n",
    "print(\"Buuuuut... some will be empty\")"
   ]
  },
  {
   "cell_type": "code",
   "execution_count": 3,
   "id": "3089e2c3",
   "metadata": {},
   "outputs": [],
   "source": [
    "# Here we'll put some hyperparameters...\n",
    "\n",
    "dimensions = 5 # I should write this into the files...\n",
    "nClasses = 6\n",
    "\n",
    "ntrain = 1\n",
    "ntest  = 2\n",
    "\n",
    "nEpochs = 10\n",
    "batchSize = 128\n",
    "learningRate = 1e-4"
   ]
  },
  {
   "cell_type": "code",
   "execution_count": 6,
   "id": "ff1c5f75",
   "metadata": {},
   "outputs": [],
   "source": [
    "# Read tree\n",
    "\n",
    "startGridU, startGridV, startGridW, endGridU, endGridV, endGridW, y = FileHelper.readTree(branches, dimensions, nClasses)"
   ]
  },
  {
   "cell_type": "code",
   "execution_count": 8,
   "id": "c82c165f",
   "metadata": {},
   "outputs": [
    {
     "name": "stdout",
     "output_type": "stream",
     "text": [
      "(1, 5, 5, 1)\n",
      "(2, 5, 5, 1)\n",
      "(1, 1)\n",
      "(2, 1)\n"
     ]
    }
   ],
   "source": [
    "# Gunna have to do test/train splitting here...\n",
    "\n",
    "# This should shuffle things so that the indicies are still linked\n",
    "startGridU, startGridV, startGridW, endGridU, endGridV, endGridW, y = sklearn.utils.shuffle(startGridU, startGridV, startGridW, endGridU, endGridV, endGridW, y)\n",
    "\n",
    "startGridU_train = startGridU[:ntrain]\n",
    "startGridV_train = startGridV[:ntrain]\n",
    "startGridW_train = startGridW[:ntrain]\n",
    "\n",
    "startGridU_test = startGridU[ntrain:(ntrain + ntest)]\n",
    "startGridV_test = startGridV[ntrain:(ntrain + ntest)]\n",
    "startGridW_test = startGridW[ntrain:(ntrain + ntest)]\n",
    "\n",
    "endGridU_train = endGridU[:ntrain]\n",
    "endGridV_train = endGridV[:ntrain]\n",
    "endGridW_train = endGridW[:ntrain]\n",
    "\n",
    "endGridU_test = endGridU[ntrain:(ntrain + ntest)]\n",
    "endGridV_test = endGridV[ntrain:(ntrain + ntest)]\n",
    "endGridW_test = endGridW[ntrain:(ntrain + ntest)]\n",
    "\n",
    "print(startGridU_train.shape)\n",
    "print(startGridU_test.shape)\n",
    "\n",
    "y_train = y[:ntrain]\n",
    "y_test = y[ntrain:(ntrain + ntest)]\n",
    "\n",
    "print(y_train.shape)\n",
    "print(y_test.shape)"
   ]
  },
  {
   "cell_type": "code",
   "execution_count": 50,
   "id": "0edf463e",
   "metadata": {},
   "outputs": [
    {
     "name": "stdout",
     "output_type": "stream",
     "text": [
      "Model: \"model_3\"\n",
      "__________________________________________________________________________________________________\n",
      " Layer (type)                Output Shape                 Param #   Connected to                  \n",
      "==================================================================================================\n",
      " input_7 (InputLayer)        [(None, 5, 5, 1)]            0         []                            \n",
      "                                                                                                  \n",
      " input_8 (InputLayer)        [(None, 5, 5, 1)]            0         []                            \n",
      "                                                                                                  \n",
      " conv2d_6 (Conv2D)           (None, 3, 3, 32)             320       ['input_7[0][0]']             \n",
      "                                                                                                  \n",
      " conv2d_7 (Conv2D)           (None, 3, 3, 32)             320       ['input_8[0][0]']             \n",
      "                                                                                                  \n",
      " flatten_6 (Flatten)         (None, 288)                  0         ['conv2d_6[0][0]']            \n",
      "                                                                                                  \n",
      " flatten_7 (Flatten)         (None, 288)                  0         ['conv2d_7[0][0]']            \n",
      "                                                                                                  \n",
      " concatenate_3 (Concatenate  (None, 576)                  0         ['flatten_6[0][0]',           \n",
      " )                                                                   'flatten_7[0][0]']           \n",
      "                                                                                                  \n",
      " dense_3 (Dense)             (None, 6)                    3462      ['concatenate_3[0][0]']       \n",
      "                                                                                                  \n",
      "==================================================================================================\n",
      "Total params: 4102 (16.02 KB)\n",
      "Trainable params: 4102 (16.02 KB)\n",
      "Non-trainable params: 0 (0.00 Byte)\n",
      "__________________________________________________________________________________________________\n"
     ]
    }
   ],
   "source": [
    "ivysaurusCNN = IvysaurusModel.IvysaurusIChooseYou(dimensions, nClasses)\n",
    "ivysaurusCNN.summary()"
   ]
  },
  {
   "cell_type": "code",
   "execution_count": 51,
   "id": "7110dfc6",
   "metadata": {},
   "outputs": [],
   "source": [
    "# Define the optimiser and compile the model\n",
    "optimiser = optimizers.legacy.Adam(learning_rate=learningRate)\n",
    "ivysaurusCNN.compile(loss='categorical_crossentropy', optimizer=optimiser, metrics=['accuracy'])"
   ]
  },
  {
   "cell_type": "code",
   "execution_count": 52,
   "id": "400ec1b4",
   "metadata": {},
   "outputs": [
    {
     "name": "stdout",
     "output_type": "stream",
     "text": [
      "Epoch 1/10\n",
      "1/1 [==============================] - 0s 161ms/step - loss: 1.7919 - accuracy: 0.0000e+00 - val_loss: 1.7914 - val_accuracy: 0.0000e+00\n",
      "Epoch 2/10\n",
      "1/1 [==============================] - 0s 8ms/step - loss: 1.7913 - accuracy: 1.0000 - val_loss: 1.7915 - val_accuracy: 0.0000e+00\n",
      "Epoch 3/10\n",
      "1/1 [==============================] - 0s 9ms/step - loss: 1.7908 - accuracy: 1.0000 - val_loss: 1.7917 - val_accuracy: 0.0000e+00\n",
      "Epoch 4/10\n",
      "1/1 [==============================] - 0s 8ms/step - loss: 1.7903 - accuracy: 1.0000 - val_loss: 1.7918 - val_accuracy: 0.0000e+00\n",
      "Epoch 5/10\n",
      "1/1 [==============================] - 0s 9ms/step - loss: 1.7899 - accuracy: 1.0000 - val_loss: 1.7919 - val_accuracy: 0.0000e+00\n",
      "Epoch 6/10\n",
      "1/1 [==============================] - 0s 9ms/step - loss: 1.7894 - accuracy: 1.0000 - val_loss: 1.7920 - val_accuracy: 0.0000e+00\n",
      "Epoch 7/10\n",
      "1/1 [==============================] - 0s 9ms/step - loss: 1.7889 - accuracy: 1.0000 - val_loss: 1.7921 - val_accuracy: 0.0000e+00\n",
      "Epoch 8/10\n",
      "1/1 [==============================] - 0s 8ms/step - loss: 1.7884 - accuracy: 1.0000 - val_loss: 1.7923 - val_accuracy: 0.0000e+00\n",
      "Epoch 9/10\n",
      "1/1 [==============================] - 0s 9ms/step - loss: 1.7879 - accuracy: 1.0000 - val_loss: 1.7924 - val_accuracy: 0.0000e+00\n",
      "Epoch 10/10\n",
      "1/1 [==============================] - 0s 10ms/step - loss: 1.7874 - accuracy: 1.0000 - val_loss: 1.7925 - val_accuracy: 0.0000e+00\n"
     ]
    }
   ],
   "source": [
    "# Fit that model!\n",
    "\n",
    "# Reduce the learning rate by a factor of ten when required\n",
    "#reduce_lr = ReduceLROnPlateau(monitor='val_loss', factor=0.1, patience=2, min_lr=1e-6, verbose=1)\n",
    "history = ivysaurusCNN.fit([startGridU_train, endGridU_train], y_train, batch_size = batchSize, \n",
    "    validation_data=([startGridU_test, endGridU_test], y_test), shuffle=True, epochs=nEpochs)"
   ]
  },
  {
   "cell_type": "code",
   "execution_count": 53,
   "id": "f3d2af61",
   "metadata": {},
   "outputs": [
    {
     "name": "stdout",
     "output_type": "stream",
     "text": [
      "dict_keys(['loss', 'accuracy', 'val_loss', 'val_accuracy'])\n"
     ]
    },
    {
     "data": {
      "image/png": "[encoded data removed]",
      "text/plain": [
       "<Figure size 640x480 with 1 Axes>"
      ]
     },
     "metadata": {},
     "output_type": "display_data"
    },
    {
     "data": {
      "image/png": "[encoded data removed]",
      "text/plain": [
       "<Figure size 640x480 with 1 Axes>"
      ]
     },
     "metadata": {},
     "output_type": "display_data"
    }
   ],
   "source": [
    "# Evaluate training\n",
    "\n",
    "# list all data in history\n",
    "print(history.history.keys())\n",
    "\n",
    "# summarize history for accuracy\n",
    "plt.plot(history.history['accuracy'])\n",
    "plt.plot(history.history['val_accuracy'])\n",
    "plt.title('model accuracy')\n",
    "plt.ylabel('accuracy')\n",
    "plt.xlabel('epoch')\n",
    "plt.legend(['train', 'test'], loc='upper left')\n",
    "plt.show()\n",
    "\n",
    "# summarize history for loss\n",
    "plt.plot(history.history['loss'])\n",
    "plt.plot(history.history['val_loss'])\n",
    "plt.title('model loss')\n",
    "plt.ylabel('loss')\n",
    "plt.xlabel('epoch')\n",
    "plt.legend(['train', 'test'], loc='upper left')\n",
    "plt.show()"
   ]
  },
  {
   "cell_type": "code",
   "execution_count": 56,
   "id": "2fd0356e",
   "metadata": {},
   "outputs": [
    {
     "name": "stdout",
     "output_type": "stream",
     "text": [
      "1/1 [==============================] - 0s 13ms/step\n",
      "[[0 0]\n",
      " [2 0]]\n"
     ]
    }
   ],
   "source": [
    "# Use the network to predict the category of the test sample\n",
    "\n",
    "y_pred = ivysaurusCNN.predict([startGridU_test, endGridU_test])\n",
    "confMatrix = confusion_matrix(y_test.argmax(axis=1), y_pred.argmax(axis=1))\n",
    "\n",
    "print(confMatrix)"
   ]
  },
  {
   "cell_type": "code",
   "execution_count": null,
   "id": "ca4ee05b",
   "metadata": {},
   "outputs": [],
   "source": []
  }
 ],
 "metadata": {
  "kernelspec": {
   "display_name": "Python 3 (ipykernel)",
   "language": "python",
   "name": "python3"
  },
  "language_info": {
   "codemirror_mode": {
    "name": "ipython",
    "version": 3
   },
   "file_extension": ".py",
   "mimetype": "text/x-python",
   "name": "python",
   "nbconvert_exporter": "python",
   "pygments_lexer": "ipython3",
   "version": "3.11.4"
  }
 },
 "nbformat": 4,
 "nbformat_minor": 5
}

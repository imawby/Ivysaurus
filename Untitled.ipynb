{
 "cells": [
  {
   "cell_type": "code",
   "execution_count": 1,
   "id": "61b85d25",
   "metadata": {},
   "outputs": [],
   "source": [
    "\n",
    "import numpy as np\n",
    "import math\n",
    "import glob\n",
    "import sys\n",
    "import sklearn \n",
    "\n",
    "import FileHelper\n",
    "\n",
    "\n"
   ]
  },
  {
   "cell_type": "code",
   "execution_count": 2,
   "id": "287e305c",
   "metadata": {},
   "outputs": [],
   "source": [
    "dimensions = 24\n",
    "nClasses = 5\n"
   ]
  },
  {
   "cell_type": "code",
   "execution_count": 3,
   "id": "d9b7abfb",
   "metadata": {},
   "outputs": [
    {
     "name": "stdout",
     "output_type": "stream",
     "text": [
      "['/Users/isobel/Desktop/DUNE/Ivysaurus/files/nu_dune10kt_1x2x6_1098_203_20230826T012225Z_gen_g4_detsim_hitreco_IvysaurusTrainingFiles.root']\n"
     ]
    }
   ],
   "source": [
    "###########################################################\n",
    "\n",
    "file = 'nu_dune10kt_1x2x6_1098_203_20230826T012225Z_gen_g4_detsim_hitreco_IvysaurusTrainingFiles'\n",
    "\n",
    "fileNames = glob.glob('/Users/isobel/Desktop/DUNE/Ivysaurus/files/' + file + '.root')\n",
    "trainVarFile = '/Users/isobel/Desktop/DUNE/Ivysaurus/files/' + file + '.npz'\n",
    "print(fileNames)\n",
    "\n",
    "###########################################################"
   ]
  },
  {
   "cell_type": "code",
   "execution_count": 4,
   "id": "7a5628b4",
   "metadata": {},
   "outputs": [
    {
     "name": "stdout",
     "output_type": "stream",
     "text": [
      "Reading tree:  /Users/isobel/Desktop/DUNE/Ivysaurus/files/nu_dune10kt_1x2x6_1098_203_20230826T012225Z_gen_g4_detsim_hitreco_IvysaurusTrainingFiles.root , This may take a while...\n",
      "We have  1  PFParticles overall!\n",
      "nMuons:  1\n",
      "nProtons:  0\n",
      "nPions:  0\n",
      "nElectrons:  0\n",
      "nPhotons:  0\n",
      "startGridU:  (1, 24, 24, 1)\n",
      "startGridV:  (1, 24, 24, 1)\n"
     ]
    }
   ],
   "source": [
    "# Read tree\n",
    "nEntries, startGridU, startGridV, startGridW, endGridU, endGridV, endGridW, trackVars, showerVars, y = FileHelper.readTree(fileNames, dimensions, nClasses)"
   ]
  },
  {
   "cell_type": "code",
   "execution_count": null,
   "id": "e6fa7d4d",
   "metadata": {},
   "outputs": [],
   "source": []
  },
  {
   "cell_type": "code",
   "execution_count": 5,
   "id": "8588718c",
   "metadata": {},
   "outputs": [],
   "source": [
    "# This should shuffle things so that the indicies are still linked\n",
    "startGridU, startGridV, startGridW, endGridU, endGridV, endGridW, trackVars, showerVars, y = sklearn.utils.shuffle(startGridU, startGridV, startGridW, endGridU, endGridV, endGridW, trackVars, showerVars, y)"
   ]
  },
  {
   "cell_type": "code",
   "execution_count": null,
   "id": "0fa5bb9b",
   "metadata": {},
   "outputs": [],
   "source": []
  },
  {
   "cell_type": "code",
   "execution_count": 6,
   "id": "908fa3e5",
   "metadata": {},
   "outputs": [
    {
     "name": "stdout",
     "output_type": "stream",
     "text": [
      "ntest:  0\n",
      "ntrain:  1\n"
     ]
    }
   ],
   "source": [
    "\n",
    "# Write file\n",
    "\n",
    "ntest = math.floor(nEntries * 0.9)\n",
    "ntrain = math.floor(nEntries * 0.1)\n",
    "\n",
    "print('ntest: ', ntest)\n",
    "print('ntrain: ', ntrain)\n",
    "\n",
    "startGridU_train = startGridU[:ntrain]\n",
    "startGridV_train = startGridV[:ntrain]\n",
    "startGridW_train = startGridW[:ntrain]\n",
    "\n",
    "startGridU_test = startGridU[ntrain:(ntrain + ntest)]\n",
    "startGridV_test = startGridV[ntrain:(ntrain + ntest)]\n",
    "startGridW_test = startGridW[ntrain:(ntrain + ntest)]\n",
    "\n",
    "endGridU_train = endGridU[:ntrain]\n",
    "endGridV_train = endGridV[:ntrain]\n",
    "endGridW_train = endGridW[:ntrain]\n",
    "\n",
    "endGridU_test = endGridU[ntrain:(ntrain + ntest)]\n",
    "endGridV_test = endGridV[ntrain:(ntrain + ntest)]\n",
    "endGridW_test = endGridW[ntrain:(ntrain + ntest)]\n",
    "    \n",
    "trackVars_train = trackVars[:ntrain]\n",
    "trackVars_test = trackVars[ntrain:(ntrain + ntest)]\n",
    "    \n",
    "showerVars_train = showerVars[:ntrain]\n",
    "showerVars_test = showerVars[ntrain:(ntrain + ntest)]\n",
    "\n",
    "y_train = y[:ntrain]\n",
    "y_test = y[ntrain:(ntrain + ntest)]\n",
    "    \n",
    "np.savez(trainVarFile, startGridU_train=startGridU_train, startGridV_train=startGridV_train, startGridW_train=startGridW_train, startGridU_test=startGridU_test, startGridV_test=startGridV_test, startGridW_test=startGridW_test, endGridU_train=endGridU_train, endGridV_train=endGridV_train, endGridW_train=endGridW_train, trackVars_train=trackVars_train, endGridU_test=endGridU_test, endGridV_test=endGridV_test, endGridW_test=endGridW_test, trackVars_test=trackVars_test, showerVars_test=showerVars_test, showerVars_train=showerVars_train, y_train=y_train, y_test=y_test)   \n"
   ]
  },
  {
   "cell_type": "code",
   "execution_count": 7,
   "id": "d8bf934e",
   "metadata": {},
   "outputs": [
    {
     "name": "stdout",
     "output_type": "stream",
     "text": [
      "startGridU_train:  (12181, 24, 24, 1)\n",
      "startGridV_train:  (12181, 24, 24, 1)\n",
      "startGridW_train:  (12181, 24, 24, 1)\n",
      "startGridU_test:  (109637, 24, 24, 1)\n",
      "startGridV_test:  (109637, 24, 24, 1)\n",
      "startGridW_test:  (109637, 24, 24, 1)\n",
      "endGridU_train:  (12181, 24, 24, 1)\n",
      "endGridV_train:  (12181, 24, 24, 1)\n",
      "endGridW_train:  (12181, 24, 24, 1)\n",
      "endGridU_test:  (109637, 24, 24, 1)\n",
      "endGridV_test:  (109637, 24, 24, 1)\n",
      "endGridW_test:  (109637, 24, 24, 1)\n",
      "trackVars_train:  (12181, 10)\n",
      "trackVars_test:  (109637, 10)\n",
      "showerVars_train:  (12181, 3)\n",
      "showerVars_test:  (109637, 3)\n",
      "y_train:  (12181, 5)\n",
      "y_test (109637, 5)\n"
     ]
    }
   ],
   "source": [
    "print('startGridU_train: ', startGridU_train.shape)\n",
    "print('startGridV_train: ', startGridV_train.shape)\n",
    "print('startGridW_train: ', startGridW_train.shape)\n",
    "print('startGridU_test: ', startGridU_test.shape)\n",
    "print('startGridV_test: ', startGridV_test.shape)\n",
    "print('startGridW_test: ', startGridW_test.shape)\n",
    "   \n",
    "print('endGridU_train: ', endGridU_train.shape)    \n",
    "print('endGridV_train: ', endGridV_train.shape)\n",
    "print('endGridW_train: ', endGridW_train.shape)\n",
    "print('endGridU_test: ', endGridU_test.shape)     \n",
    "print('endGridV_test: ', endGridV_test.shape)     \n",
    "print('endGridW_test: ', endGridW_test.shape) \n",
    "    \n",
    "print('trackVars_train: ', trackVars_train.shape)    \n",
    "print('trackVars_test: ', trackVars_test.shape)  \n",
    "\n",
    "    \n",
    "print('showerVars_train: ', showerVars_train.shape)    \n",
    "print('showerVars_test: ', showerVars_test.shape)  \n",
    "\n",
    "print('y_train: ', y_train.shape)\n",
    "print('y_test', y_test.shape)"
   ]
  },
  {
   "cell_type": "code",
   "execution_count": 8,
   "id": "3d826c4b",
   "metadata": {},
   "outputs": [
    {
     "data": {
      "text/plain": [
       "(13864, 124784)"
      ]
     },
     "execution_count": 8,
     "metadata": {},
     "output_type": "execute_result"
    }
   ],
   "source": [
    "13864, 124784"
   ]
  },
  {
   "cell_type": "code",
   "execution_count": null,
   "id": "9722b83f",
   "metadata": {},
   "outputs": [],
   "source": []
  }
 ],
 "metadata": {
  "kernelspec": {
   "display_name": "Python 3 (ipykernel)",
   "language": "python",
   "name": "python3"
  },
  "language_info": {
   "codemirror_mode": {
    "name": "ipython",
    "version": 3
   },
   "file_extension": ".py",
   "mimetype": "text/x-python",
   "name": "python",
   "nbconvert_exporter": "python",
   "pygments_lexer": "ipython3",
   "version": "3.11.4"
  }
 },
 "nbformat": 4,
 "nbformat_minor": 5
}

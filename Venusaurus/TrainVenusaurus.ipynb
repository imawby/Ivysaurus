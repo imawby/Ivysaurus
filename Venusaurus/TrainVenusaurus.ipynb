{
 "cells": [
  {
   "cell_type": "code",
   "execution_count": 1,
   "id": "e7760c4c",
   "metadata": {},
   "outputs": [],
   "source": [
    "import numpy as np\n",
    "import math\n",
    "import glob\n",
    "import sys\n",
    "\n",
    "import tensorflow\n",
    "from tensorflow import float32 as tffloat32\n",
    "from tensorflow.keras.optimizers import Adam\n",
    "from tensorflow.keras.models import load_model\n",
    "from tensorflow.keras.callbacks import ReduceLROnPlateau\n",
    "from tensorflow.keras.callbacks import ModelCheckpoint\n",
    "from tensorflow import newaxis, cast\n",
    "\n",
    "from sklearn.utils import class_weight\n",
    "\n",
    "import VenusaurusTransformer\n",
    "import VenusaurusFileHelper"
   ]
  },
  {
   "cell_type": "code",
   "execution_count": null,
   "id": "4cd4dbc9",
   "metadata": {},
   "outputs": [],
   "source": [
    "\n",
    "\n",
    "\n",
    "\n",
    "\n"
   ]
  },
  {
   "cell_type": "code",
   "execution_count": 2,
   "id": "e1ae0571",
   "metadata": {},
   "outputs": [],
   "source": [
    "binWidth_l = 0.5   # Units cm - wire pitch?\n",
    "targetNBins_l = 50 # This equates to 25cm in length\n",
    "binWidth_t = 0.5   # Units cm - wire pitch?\n",
    "targetNBins_t = 20 # This equates to 10cm in length - moliere radius\n",
    "\n",
    "nVocab_l = 103\n",
    "embedDim_l = 50\n",
    "\n",
    "nClasses = 5 # Number of types for classification\n",
    "\n",
    "\n",
    "nEpochs = 5\n",
    "batchSize = 128\n",
    "learningRate = 1e-4"
   ]
  },
  {
   "cell_type": "code",
   "execution_count": 20,
   "id": "0775399e",
   "metadata": {},
   "outputs": [
    {
     "ename": "ValueError",
     "evalue": "The truth value of an array with more than one element is ambiguous. Use a.any() or a.all()",
     "output_type": "error",
     "traceback": [
      "\u001b[0;31m---------------------------------------------------------------------------\u001b[0m",
      "\u001b[0;31mValueError\u001b[0m                                Traceback (most recent call last)",
      "Cell \u001b[0;32mIn[20], line 8\u001b[0m\n\u001b[1;32m      5\u001b[0m nMin \u001b[38;5;241m=\u001b[39m np\u001b[38;5;241m.\u001b[39marray([[\u001b[38;5;241m0\u001b[39m], [\u001b[38;5;241m0\u001b[39m]])\n\u001b[1;32m      6\u001b[0m nMax \u001b[38;5;241m=\u001b[39m np\u001b[38;5;241m.\u001b[39marray([[\u001b[38;5;241m3\u001b[39m], [\u001b[38;5;241m6\u001b[39m]])\n\u001b[0;32m----> 8\u001b[0m thisProfile_t, edges_t \u001b[38;5;241m=\u001b[39m \u001b[43mnp\u001b[49m\u001b[38;5;241;43m.\u001b[39;49m\u001b[43mhistogram\u001b[49m\u001b[43m(\u001b[49m\u001b[43mfrog\u001b[49m\u001b[43m,\u001b[49m\u001b[43m \u001b[49m\u001b[38;5;241;43m6\u001b[39;49m\u001b[43m,\u001b[49m\u001b[43m \u001b[49m\u001b[38;5;28;43mrange\u001b[39;49m\u001b[38;5;241;43m=\u001b[39;49m\u001b[43m[\u001b[49m\u001b[43mnMin\u001b[49m\u001b[43m,\u001b[49m\u001b[43m \u001b[49m\u001b[43mnMax\u001b[49m\u001b[43m]\u001b[49m\u001b[43m)\u001b[49m\n",
      "File \u001b[0;32m<__array_function__ internals>:200\u001b[0m, in \u001b[0;36mhistogram\u001b[0;34m(*args, **kwargs)\u001b[0m\n",
      "File \u001b[0;32m/Library/Frameworks/Python.framework/Versions/3.11/lib/python3.11/site-packages/numpy/lib/histograms.py:780\u001b[0m, in \u001b[0;36mhistogram\u001b[0;34m(a, bins, range, density, weights)\u001b[0m\n\u001b[1;32m    680\u001b[0m \u001b[38;5;250m\u001b[39m\u001b[38;5;124mr\u001b[39m\u001b[38;5;124;03m\"\"\"\u001b[39;00m\n\u001b[1;32m    681\u001b[0m \u001b[38;5;124;03mCompute the histogram of a dataset.\u001b[39;00m\n\u001b[1;32m    682\u001b[0m \n\u001b[0;32m   (...)\u001b[0m\n\u001b[1;32m    776\u001b[0m \n\u001b[1;32m    777\u001b[0m \u001b[38;5;124;03m\"\"\"\u001b[39;00m\n\u001b[1;32m    778\u001b[0m a, weights \u001b[38;5;241m=\u001b[39m _ravel_and_check_weights(a, weights)\n\u001b[0;32m--> 780\u001b[0m bin_edges, uniform_bins \u001b[38;5;241m=\u001b[39m \u001b[43m_get_bin_edges\u001b[49m\u001b[43m(\u001b[49m\u001b[43ma\u001b[49m\u001b[43m,\u001b[49m\u001b[43m \u001b[49m\u001b[43mbins\u001b[49m\u001b[43m,\u001b[49m\u001b[43m \u001b[49m\u001b[38;5;28;43mrange\u001b[39;49m\u001b[43m,\u001b[49m\u001b[43m \u001b[49m\u001b[43mweights\u001b[49m\u001b[43m)\u001b[49m\n\u001b[1;32m    782\u001b[0m \u001b[38;5;66;03m# Histogram is an integer or a float array depending on the weights.\u001b[39;00m\n\u001b[1;32m    783\u001b[0m \u001b[38;5;28;01mif\u001b[39;00m weights \u001b[38;5;129;01mis\u001b[39;00m \u001b[38;5;28;01mNone\u001b[39;00m:\n",
      "File \u001b[0;32m/Library/Frameworks/Python.framework/Versions/3.11/lib/python3.11/site-packages/numpy/lib/histograms.py:426\u001b[0m, in \u001b[0;36m_get_bin_edges\u001b[0;34m(a, bins, range, weights)\u001b[0m\n\u001b[1;32m    423\u001b[0m     \u001b[38;5;28;01mif\u001b[39;00m n_equal_bins \u001b[38;5;241m<\u001b[39m \u001b[38;5;241m1\u001b[39m:\n\u001b[1;32m    424\u001b[0m         \u001b[38;5;28;01mraise\u001b[39;00m \u001b[38;5;167;01mValueError\u001b[39;00m(\u001b[38;5;124m'\u001b[39m\u001b[38;5;124m`bins` must be positive, when an integer\u001b[39m\u001b[38;5;124m'\u001b[39m)\n\u001b[0;32m--> 426\u001b[0m     first_edge, last_edge \u001b[38;5;241m=\u001b[39m \u001b[43m_get_outer_edges\u001b[49m\u001b[43m(\u001b[49m\u001b[43ma\u001b[49m\u001b[43m,\u001b[49m\u001b[43m \u001b[49m\u001b[38;5;28;43mrange\u001b[39;49m\u001b[43m)\u001b[49m\n\u001b[1;32m    428\u001b[0m \u001b[38;5;28;01melif\u001b[39;00m np\u001b[38;5;241m.\u001b[39mndim(bins) \u001b[38;5;241m==\u001b[39m \u001b[38;5;241m1\u001b[39m:\n\u001b[1;32m    429\u001b[0m     bin_edges \u001b[38;5;241m=\u001b[39m np\u001b[38;5;241m.\u001b[39masarray(bins)\n",
      "File \u001b[0;32m/Library/Frameworks/Python.framework/Versions/3.11/lib/python3.11/site-packages/numpy/lib/histograms.py:311\u001b[0m, in \u001b[0;36m_get_outer_edges\u001b[0;34m(a, range)\u001b[0m\n\u001b[1;32m    309\u001b[0m \u001b[38;5;28;01mif\u001b[39;00m \u001b[38;5;28mrange\u001b[39m \u001b[38;5;129;01mis\u001b[39;00m \u001b[38;5;129;01mnot\u001b[39;00m \u001b[38;5;28;01mNone\u001b[39;00m:\n\u001b[1;32m    310\u001b[0m     first_edge, last_edge \u001b[38;5;241m=\u001b[39m \u001b[38;5;28mrange\u001b[39m\n\u001b[0;32m--> 311\u001b[0m     \u001b[38;5;28;01mif\u001b[39;00m first_edge \u001b[38;5;241m>\u001b[39m last_edge:\n\u001b[1;32m    312\u001b[0m         \u001b[38;5;28;01mraise\u001b[39;00m \u001b[38;5;167;01mValueError\u001b[39;00m(\n\u001b[1;32m    313\u001b[0m             \u001b[38;5;124m'\u001b[39m\u001b[38;5;124mmax must be larger than min in range parameter.\u001b[39m\u001b[38;5;124m'\u001b[39m)\n\u001b[1;32m    314\u001b[0m     \u001b[38;5;28;01mif\u001b[39;00m \u001b[38;5;129;01mnot\u001b[39;00m (np\u001b[38;5;241m.\u001b[39misfinite(first_edge) \u001b[38;5;129;01mand\u001b[39;00m np\u001b[38;5;241m.\u001b[39misfinite(last_edge)):\n",
      "\u001b[0;31mValueError\u001b[0m: The truth value of an array with more than one element is ambiguous. Use a.any() or a.all()"
     ]
    }
   ],
   "source": [
    "\n",
    "frog = np.array([[1,2,3], [4, 5, 6]])\n",
    "frog.shape\n",
    "\n",
    "nbins = np.array([[2], [2]])\n",
    "nMin = np.array([[0], [0]])\n",
    "nMax = np.array([[3], [6]])\n",
    "\n",
    "thisProfile_t, edges_t = np.histogram(frog, 6, range=[nMin, nMax])\n",
    "\n",
    "\n",
    "\n"
   ]
  },
  {
   "cell_type": "code",
   "execution_count": 3,
   "id": "16167e57",
   "metadata": {},
   "outputs": [
    {
     "name": "stdout",
     "output_type": "stream",
     "text": [
      "['/Users/isobel/Desktop/DUNE/Ivysaurus/Venusaurus/files/nu/placeholder.npz']\n",
      "Reading file:  /Users/isobel/Desktop/DUNE/Ivysaurus/Venusaurus/files/nu/placeholder.npz , This may take a while...\n"
     ]
    }
   ],
   "source": [
    "# Here we'll get our information...\n",
    "\n",
    "# Profiles\n",
    "longitudinalProfile_start_train = np.empty((0, targetNBins_l))\n",
    "longitudinalBinIndicies_start_train = np.empty((0, targetNBins_l))\n",
    "longitudinalProfile_end_train = np.empty((0, targetNBins_l))\n",
    "longitudinalBinIndicies_end_train = np.empty((0, targetNBins_l))\n",
    "transverseProfile_train = np.empty((0, targetNBins_t))\n",
    "transverseBinIndicies_train = np.empty((0, targetNBins_t))\n",
    "\n",
    "longitudinalProfile_start_test = np.empty((0, targetNBins_l))\n",
    "longitudinalBinIndicies_start_test = np.empty((0, targetNBins_l))\n",
    "longitudinalProfile_end_test = np.empty((0, targetNBins_l))\n",
    "longitudinalBinIndicies_end_test = np.empty((0, targetNBins_l))\n",
    "transverseProfile_test = np.empty((0, targetNBins_t))\n",
    "transverseBinIndicies_test = np.empty((0, targetNBins_t))\n",
    "\n",
    "# Truth\n",
    "y_train = np.empty((0, nClasses))\n",
    "y_test = np.empty((0, nClasses))\n",
    "\n",
    "# Get training file(s)\n",
    "trainFileNames = glob.glob('/Users/isobel/Desktop/DUNE/Ivysaurus/Venusaurus/files/*/*.npz')\n",
    "print(trainFileNames)\n",
    "\n",
    "for trainFileName in trainFileNames :\n",
    "    print('Reading file: ', str(trainFileName),', This may take a while...')\n",
    "    \n",
    "    data = np.load(trainFileName)\n",
    "\n",
    "    # Profiles\n",
    "    longitudinalProfile_start_train =  np.concatenate((longitudinalProfile_start_train, data['longitudinalProfile_start_train']), axis=0)\n",
    "    longitudinalBinIndicies_start_train = np.concatenate((longitudinalBinIndicies_start_train, data['longitudinalBinIndicies_start_train']), axis=0)\n",
    "    longitudinalProfile_end_train = np.concatenate((longitudinalProfile_end_train, data['longitudinalProfile_end_train']), axis=0)\n",
    "    longitudinalBinIndicies_end_train = np.concatenate((longitudinalBinIndicies_end_train, data['longitudinalBinIndicies_end_train']), axis=0)\n",
    "    transverseProfile_train = np.concatenate((transverseProfile_train, data['transverseProfile_train']), axis=0)\n",
    "    transverseBinIndicies_train = np.concatenate((transverseBinIndicies_train, data['transverseBinIndicies_train']), axis=0)  \n",
    "                           \n",
    "    longitudinalProfile_start_test =  np.concatenate((longitudinalProfile_start_test, data['longitudinalProfile_start_test']), axis=0)\n",
    "    longitudinalBinIndicies_start_test = np.concatenate((longitudinalBinIndicies_start_test, data['longitudinalBinIndicies_start_test']), axis=0)\n",
    "    longitudinalProfile_end_test = np.concatenate((longitudinalProfile_end_test, data['longitudinalProfile_end_test']), axis=0)\n",
    "    longitudinalBinIndicies_end_test = np.concatenate((longitudinalBinIndicies_end_test, data['longitudinalBinIndicies_end_test']), axis=0)\n",
    "    transverseProfile_test = np.concatenate((transverseProfile_test, data['transverseProfile_test']), axis=0)\n",
    "    transverseBinIndicies_test = np.concatenate((transverseBinIndicies_test, data['transverseBinIndicies_test']), axis=0)                             \n",
    "\n",
    "    # Truth\n",
    "    y_train = np.concatenate((y_train, data['y_train']), axis=0)\n",
    "    y_test = np.concatenate((y_test, data['y_test']), axis=0)"
   ]
  },
  {
   "cell_type": "code",
   "execution_count": 4,
   "id": "19f3d5de",
   "metadata": {},
   "outputs": [
    {
     "name": "stdout",
     "output_type": "stream",
     "text": [
      "longitudinalProfile_start_train:  (4, 50)\n",
      "longitudinalBinIndicies_start_train:  (4, 50)\n",
      "longitudinalProfile_end_train:  (4, 50)\n",
      "longitudinalBinIndicies_end_train:  (4, 50)\n",
      "transverseProfile_train:  (4, 20)\n",
      "transverseBinIndicies_train:  (4, 20)\n",
      "longitudinalProfile_start_test:  (4, 50)\n",
      "longitudinalBinIndicies_start_test:  (4, 50)\n",
      "longitudinalProfile_end_test:  (4, 50)\n",
      "longitudinalBinIndicies_end_test:  (4, 50)\n",
      "transverseProfile_test:  (4, 20)\n",
      "transverseBinIndicies_test:  (4, 20)\n",
      "y_train:  (4, 5)\n",
      "y_test (4, 5)\n"
     ]
    }
   ],
   "source": [
    "# check everything went smoothly\n",
    "print('longitudinalProfile_start_train: ', longitudinalProfile_start_train.shape)\n",
    "print('longitudinalBinIndicies_start_train: ', longitudinalBinIndicies_start_train.shape)\n",
    "print('longitudinalProfile_end_train: ', longitudinalProfile_end_train.shape)\n",
    "print('longitudinalBinIndicies_end_train: ', longitudinalBinIndicies_end_train.shape)\n",
    "print('transverseProfile_train: ', transverseProfile_train.shape)\n",
    "print('transverseBinIndicies_train: ', transverseBinIndicies_train.shape)\n",
    "\n",
    "print('longitudinalProfile_start_test: ', longitudinalProfile_start_test.shape)\n",
    "print('longitudinalBinIndicies_start_test: ', longitudinalBinIndicies_start_test.shape)\n",
    "print('longitudinalProfile_end_test: ', longitudinalProfile_end_test.shape)\n",
    "print('longitudinalBinIndicies_end_test: ', longitudinalBinIndicies_end_test.shape)\n",
    "print('transverseProfile_test: ', transverseProfile_test.shape)\n",
    "print('transverseBinIndicies_test: ', transverseBinIndicies_test.shape)\n",
    "\n",
    "# Truth\n",
    "print('y_train: ', y_train.shape)\n",
    "print('y_test', y_test.shape)"
   ]
  },
  {
   "cell_type": "code",
   "execution_count": 5,
   "id": "14859990",
   "metadata": {},
   "outputs": [
    {
     "name": "stdout",
     "output_type": "stream",
     "text": [
      "[0.00379395 0.         0.00260592 0.0015677  0.         0.\n",
      " 0.00602757 0.         0.00176733 0.00361758 0.00401657 0.\n",
      " 0.00514364 0.00394055 0.0039302  0.00437635 0.00486693 0.\n",
      " 0.00600197 0.00510372 0.00821073 0.         0.00586229 0.00610512\n",
      " 0.00677126 0.00524408 0.         0.00420285 0.00410771 0.00408494\n",
      " 0.00527346 0.         0.00424763 0.00481674 0.0037238  0.00907887\n",
      " 0.00291653 0.00292758 0.0031234  0.         0.00351914 0.00910257\n",
      " 0.00268647 0.00228208 0.01459973 0.00832948 0.01542274 0.00893683\n",
      " 0.0055599  0.        ]\n"
     ]
    }
   ],
   "source": [
    "print(longitudinalProfile_start_train[0])"
   ]
  },
  {
   "cell_type": "code",
   "execution_count": 6,
   "id": "af75d051",
   "metadata": {},
   "outputs": [],
   "source": [
    "# We need to convert each energy profile bin weight to an index\n",
    "\n",
    "maxEnergyValue_l = 1\n",
    "nEnergyBins_l = 1000\n",
    "energyBinWidth_l = maxEnergyValue_l / float(nEnergyBins_l)\n",
    "\n",
    "ls_train_mask_above = longitudinalProfile_start_train > maxEnergyValue_l\n",
    "ls_train_mask_zero = longitudinalProfile_start_train < 0.00001\n",
    "longitudinalProfile_start_train = np.floor(longitudinalProfile_start_train / energyBinWidth_l)\n",
    "longitudinalProfile_start_train[ls_train_mask_above] = int(-1)\n",
    "longitudinalProfile_start_train[ls_train_mask_zero] = int(-2)\n",
    "longitudinalProfile_start_train = longitudinalProfile_start_train + 2\n",
    "\n",
    "le_train_mask_above = longitudinalProfile_end_train > maxEnergyValue_l\n",
    "le_train_mask_zero = longitudinalProfile_end_train < 0.00001\n",
    "longitudinalProfile_end_train = np.floor(longitudinalProfile_end_train / energyBinWidth_l)\n",
    "longitudinalProfile_end_train[le_train_mask_above] = int(-1)\n",
    "longitudinalProfile_end_train[le_train_mask_zero] = int(-2)\n",
    "longitudinalProfile_end_train = longitudinalProfile_end_train + 2\n",
    "\n",
    "ls_test_mask_above = longitudinalProfile_start_test > maxEnergyValue_l\n",
    "ls_test_mask_zero = longitudinalProfile_start_test < 0.00001\n",
    "longitudinalProfile_start_test = np.floor(longitudinalProfile_start_test / energyBinWidth_l)\n",
    "longitudinalProfile_start_test[ls_test_mask_above] = int(-1)\n",
    "longitudinalProfile_start_test[ls_test_mask_zero] = int(-2)\n",
    "longitudinalProfile_start_test = longitudinalProfile_start_test + 2\n",
    "\n",
    "le_test_mask_above = longitudinalProfile_end_test > maxEnergyValue_l\n",
    "le_test_mask_zero = longitudinalProfile_end_test < 0.00001\n",
    "longitudinalProfile_end_test = np.floor(longitudinalProfile_end_test / energyBinWidth_l)\n",
    "longitudinalProfile_end_test[le_test_mask_above] = int(-1)\n",
    "longitudinalProfile_end_test[le_test_mask_zero] = int(-2)\n",
    "longitudinalProfile_end_test = longitudinalProfile_end_test + 2\n"
   ]
  },
  {
   "cell_type": "code",
   "execution_count": 7,
   "id": "f0e361af",
   "metadata": {},
   "outputs": [
    {
     "name": "stdout",
     "output_type": "stream",
     "text": [
      "[ 5.  0.  4.  3.  0.  0.  8.  0.  3.  5.  6.  0.  7.  5.  5.  6.  6.  0.\n",
      "  8.  7. 10.  0.  7.  8.  8.  7.  0.  6.  6.  6.  7.  0.  6.  6.  5. 11.\n",
      "  4.  4.  5.  0.  5. 11.  4.  4. 16. 10. 17. 10.  7.  0.]\n",
      "[ 3.  0.  0.  0.  0.  0.  0.  0.  0.  0.  0.  0.  0.  0.  0.  0.  0.  5.\n",
      "  4.  0.  0.  9. 11.  2.  0.  0.  0.  0.  2.  0.  0.  0.  0.  0.  0.  0.\n",
      "  0.  0.  0.  0.  0.  0.  0.  0.  0.  0.  0.  0.  0.  2.]\n"
     ]
    }
   ],
   "source": [
    "print(longitudinalProfile_start_train[0])\n",
    "print(longitudinalProfile_end_train[0])"
   ]
  },
  {
   "cell_type": "code",
   "execution_count": 8,
   "id": "244ff6e9",
   "metadata": {},
   "outputs": [],
   "source": [
    "# Combine\n",
    "longitudinalProfile_train = np.concatenate((longitudinalProfile_start_train, longitudinalProfile_end_train), axis=1)\n",
    "longitudinalBinIndicies_train = np.concatenate((longitudinalBinIndicies_start_train, longitudinalBinIndicies_end_train), axis=1)\n",
    "\n",
    "longitudinalProfile_test = np.concatenate((longitudinalProfile_start_test, longitudinalProfile_end_test), axis=1)\n",
    "longitudinalBinIndicies_test = np.concatenate((longitudinalBinIndicies_start_test, longitudinalBinIndicies_end_test), axis=1)"
   ]
  },
  {
   "cell_type": "code",
   "execution_count": 12,
   "id": "6de8299b",
   "metadata": {},
   "outputs": [],
   "source": [
    "# Reshape\n",
    "\n",
    "longitudinalProfile_train = longitudinalProfile_train.reshape(longitudinalProfile_train.shape[0], (targetNBins_l * 2), 1)\n",
    "longitudinalBinIndicies_train = longitudinalBinIndicies_train.reshape(longitudinalBinIndicies_train.shape[0], (targetNBins_l * 2), 1)\n",
    "\n",
    "longitudinalProfile_test = longitudinalProfile_test.reshape(longitudinalProfile_test.shape[0], (targetNBins_l * 2), 1)\n",
    "longitudinalBinIndicies_test =longitudinalBinIndicies_test.reshape(longitudinalBinIndicies_test.shape[0], (targetNBins_l * 2), 1)\n",
    "\n",
    "transverseProfile_train = transverseProfile_train.reshape(transverseProfile_train.shape[0], targetNBins_t, 1)\n",
    "transverseBinIndicies_train = transverseBinIndicies_train.reshape(transverseBinIndicies_train.shape[0], targetNBins_t, 1)\n",
    "\n",
    "transverseProfile_test = transverseProfile_test.reshape(transverseProfile_test.shape[0], targetNBins_t, 1)\n",
    "transverseBinIndicies_test = transverseBinIndicies_test.reshape(transverseBinIndicies_test.shape[0], targetNBins_t, 1)"
   ]
  },
  {
   "cell_type": "code",
   "execution_count": 13,
   "id": "f30da84b",
   "metadata": {},
   "outputs": [
    {
     "name": "stdout",
     "output_type": "stream",
     "text": [
      "longitudinalProfile_train:  (4, 100, 1)\n",
      "longitudinalBinIndicies_train:  (4, 100, 1)\n",
      "transverseProfile_train:  (4, 20, 1)\n",
      "transverseBinIndicies_train:  (4, 20, 1)\n",
      "longitudinalProfile_test:  (4, 100, 1)\n",
      "longitudinalBinIndicies_test:  (4, 100, 1)\n",
      "transverseProfile_test:  (4, 20, 1)\n",
      "transverseBinIndicies_test:  (4, 20, 1)\n",
      "y_train:  (4, 5)\n",
      "y_test (4, 5)\n"
     ]
    }
   ],
   "source": [
    "# Check everything went smoothly\n",
    "\n",
    "# Profiles\n",
    "print('longitudinalProfile_train: ', longitudinalProfile_train.shape)\n",
    "print('longitudinalBinIndicies_train: ', longitudinalBinIndicies_train.shape)\n",
    "print('transverseProfile_train: ', transverseProfile_train.shape)\n",
    "print('transverseBinIndicies_train: ', transverseBinIndicies_train.shape)\n",
    "\n",
    "print('longitudinalProfile_test: ', longitudinalProfile_test.shape)\n",
    "print('longitudinalBinIndicies_test: ', longitudinalBinIndicies_test.shape)\n",
    "print('transverseProfile_test: ', transverseProfile_test.shape)\n",
    "print('transverseBinIndicies_test: ', transverseBinIndicies_test.shape)\n",
    "\n",
    "# Truth\n",
    "print('y_train: ', y_train.shape)\n",
    "print('y_test', y_test.shape)"
   ]
  },
  {
   "cell_type": "code",
   "execution_count": 14,
   "id": "46499f7d",
   "metadata": {},
   "outputs": [
    {
     "name": "stdout",
     "output_type": "stream",
     "text": [
      "Model: \"model\"\n",
      "_________________________________________________________________\n",
      " Layer (type)                Output Shape              Param #   \n",
      "=================================================================\n",
      " input_1 (InputLayer)        [(None, 100)]             0         \n",
      "                                                                 \n",
      " positional_embedding (Posi  (None, 100, 50)           50100     \n",
      " tionalEmbedding)                                                \n",
      "                                                                 \n",
      " transformer_encoder (Trans  (None, 100, 50)           23832     \n",
      " formerEncoder)                                                  \n",
      "                                                                 \n",
      " global_max_pooling1d (Glob  (None, 50)                0         \n",
      " alMaxPooling1D)                                                 \n",
      "                                                                 \n",
      " dropout (Dropout)           (None, 50)                0         \n",
      "                                                                 \n",
      " dense_2 (Dense)             (None, 5)                 255       \n",
      "                                                                 \n",
      "=================================================================\n",
      "Total params: 74187 (289.79 KB)\n",
      "Trainable params: 74187 (289.79 KB)\n",
      "Non-trainable params: 0 (0.00 Byte)\n",
      "_________________________________________________________________\n"
     ]
    }
   ],
   "source": [
    "sequenceLength_l = targetNBins_l * int(2)\n",
    "nVocab_l = (nEnergyBins_l + 2)\n",
    "\n",
    "venusaurusModel = VenusaurusTransformer.TransformerModel(sequenceLength_l, nVocab_l, nClasses, embedDim_l)\n",
    "venusaurusModel.summary()"
   ]
  },
  {
   "cell_type": "code",
   "execution_count": 15,
   "id": "caddab09",
   "metadata": {},
   "outputs": [
    {
     "name": "stderr",
     "output_type": "stream",
     "text": [
      "WARNING:absl:At this time, the v2.11+ optimizer `tf.keras.optimizers.Adam` runs slowly on M1/M2 Macs, please use the legacy Keras optimizer instead, located at `tf.keras.optimizers.legacy.Adam`.\n"
     ]
    }
   ],
   "source": [
    "# Define the optimiser and compile the model\n",
    "optimiser = Adam(learning_rate=learningRate)\n",
    "venusaurusModel.compile(loss='categorical_crossentropy', optimizer=optimiser, metrics=['accuracy'])"
   ]
  },
  {
   "cell_type": "code",
   "execution_count": 16,
   "id": "6dc53364",
   "metadata": {},
   "outputs": [
    {
     "name": "stdout",
     "output_type": "stream",
     "text": [
      "Class Weights: \n",
      "{0: 1.0, 1: 1.0, 2: 1.0, 3: 1.0, 4: 1.0}\n"
     ]
    }
   ],
   "source": [
    "# Create class weights\n",
    "\n",
    "indexVector = np.argmax(y_test, axis=1)\n",
    "\n",
    "# muons = 0, protons = 1, pions = 2, electrons = 3, photons = 4, other = 5\n",
    "\n",
    "nMuons = np.count_nonzero(indexVector == 0)    \n",
    "nProtons = np.count_nonzero(indexVector == 1)  \n",
    "nPions = np.count_nonzero(indexVector == 2)  \n",
    "nElectrons = np.count_nonzero(indexVector == 3)  \n",
    "nPhotons = np.count_nonzero(indexVector == 4)  \n",
    "\n",
    "# Normalise to largest\n",
    "maxParticle = max(nMuons, nProtons, nPions, nElectrons, nPhotons)\n",
    "\n",
    "#classWeights = {0: maxParticle/nMuons, 1: maxParticle/nProtons, 2: maxParticle/nPions, 3: maxParticle/nElectrons, 4: maxParticle/nPhotons}\n",
    "\n",
    "classWeights = {0: 1.0, 1: 1.0, 2: 1.0, 3: 1.0, 4: 1.0}\n",
    "\n",
    "\n",
    "print('Class Weights: ')\n",
    "print(classWeights)"
   ]
  },
  {
   "cell_type": "code",
   "execution_count": 17,
   "id": "ae3022e5",
   "metadata": {},
   "outputs": [
    {
     "name": "stdout",
     "output_type": "stream",
     "text": [
      "Epoch 1/5\n",
      "\n",
      "Epoch 1: val_accuracy improved from -inf to 0.00000, saving model to /Users/isobel/Desktop/DUNE/Ivysaurus/Venusaurus/files/test\n",
      "INFO:tensorflow:Assets written to: /Users/isobel/Desktop/DUNE/Ivysaurus/Venusaurus/files/test/assets\n"
     ]
    },
    {
     "name": "stderr",
     "output_type": "stream",
     "text": [
      "INFO:tensorflow:Assets written to: /Users/isobel/Desktop/DUNE/Ivysaurus/Venusaurus/files/test/assets\n"
     ]
    },
    {
     "name": "stdout",
     "output_type": "stream",
     "text": [
      "1/1 - 1s - loss: 4.9098 - accuracy: 0.0000e+00 - val_loss: 2.5444 - val_accuracy: 0.0000e+00 - lr: 1.0000e-04 - 1s/epoch - 1s/step\n",
      "Epoch 2/5\n",
      "\n",
      "Epoch 2: val_accuracy did not improve from 0.00000\n",
      "1/1 - 0s - loss: 3.8962 - accuracy: 0.0000e+00 - val_loss: 2.5142 - val_accuracy: 0.0000e+00 - lr: 1.0000e-04 - 13ms/epoch - 13ms/step\n",
      "Epoch 3/5\n",
      "\n",
      "Epoch 3: val_accuracy did not improve from 0.00000\n",
      "1/1 - 0s - loss: 3.4818 - accuracy: 0.0000e+00 - val_loss: 2.4825 - val_accuracy: 0.0000e+00 - lr: 1.0000e-04 - 13ms/epoch - 13ms/step\n",
      "Epoch 4/5\n",
      "\n",
      "Epoch 4: val_accuracy did not improve from 0.00000\n",
      "1/1 - 0s - loss: 4.0943 - accuracy: 0.0000e+00 - val_loss: 2.4571 - val_accuracy: 0.0000e+00 - lr: 1.0000e-04 - 12ms/epoch - 12ms/step\n",
      "Epoch 5/5\n",
      "\n",
      "Epoch 5: val_accuracy did not improve from 0.00000\n",
      "1/1 - 0s - loss: 3.1935 - accuracy: 0.0000e+00 - val_loss: 2.4272 - val_accuracy: 0.0000e+00 - lr: 1.0000e-04 - 12ms/epoch - 12ms/step\n"
     ]
    }
   ],
   "source": [
    "# checkpoint\n",
    "checkpoint = ModelCheckpoint('/Users/isobel/Desktop/DUNE/Ivysaurus/Venusaurus/files/test', monitor='val_accuracy', verbose=1, save_best_only=True, mode='max')\n",
    "\n",
    "# Reduce the learning rate by a factor of ten when required\n",
    "reduce_lr = ReduceLROnPlateau(monitor='val_loss', factor=0.1, patience=2, min_lr=1e-6, verbose=1)\n",
    "\n",
    "callbacks_list = [checkpoint, reduce_lr]\n",
    "\n",
    "history = venusaurusModel.fit(longitudinalProfile_train, y_train, \n",
    "    batch_size = batchSize, validation_data=(longitudinalProfile_test, y_test), \n",
    "    shuffle=True, epochs=nEpochs, class_weight=classWeights, callbacks=callbacks_list, verbose=2)"
   ]
  },
  {
   "cell_type": "code",
   "execution_count": null,
   "id": "1a7e6a61",
   "metadata": {},
   "outputs": [],
   "source": []
  }
 ],
 "metadata": {
  "kernelspec": {
   "display_name": "Python 3 (ipykernel)",
   "language": "python",
   "name": "python3"
  },
  "language_info": {
   "codemirror_mode": {
    "name": "ipython",
    "version": 3
   },
   "file_extension": ".py",
   "mimetype": "text/x-python",
   "name": "python",
   "nbconvert_exporter": "python",
   "pygments_lexer": "ipython3",
   "version": "3.11.4"
  }
 },
 "nbformat": 4,
 "nbformat_minor": 5
}

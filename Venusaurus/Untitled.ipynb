{
 "cells": [
  {
   "cell_type": "code",
   "execution_count": 1,
   "id": "697e5745",
   "metadata": {},
   "outputs": [],
   "source": [
    "import numpy as np\n",
    "import math\n",
    "import glob\n",
    "import sys\n",
    "import sklearn \n",
    "\n",
    "from sklearn.utils import class_weight\n",
    "\n",
    "import VenusaurusFileHelper"
   ]
  },
  {
   "cell_type": "code",
   "execution_count": 2,
   "id": "165080a1",
   "metadata": {},
   "outputs": [],
   "source": [
    "nClasses = 5"
   ]
  },
  {
   "cell_type": "code",
   "execution_count": 3,
   "id": "86feb029",
   "metadata": {},
   "outputs": [
    {
     "name": "stdout",
     "output_type": "stream",
     "text": [
      "fileName:  /Users/isobel/Desktop/DUNE/Ivysaurus/Venusaurus/files/nutau/venusaurus_nutau_0.root\n"
     ]
    }
   ],
   "source": [
    "file = 'nutau/venusaurus_nutau_0'\n",
    "\n",
    "fileName = '/Users/isobel/Desktop/DUNE/Ivysaurus/Venusaurus/files/' + file + '.root'\n",
    "trainVarFile = '/Users/isobel/Desktop/DUNE/Ivysaurus/Venusaurus/files/' + file + '.npz'\n",
    "\n",
    "print('fileName: ', fileName)"
   ]
  },
  {
   "cell_type": "code",
   "execution_count": 4,
   "id": "37ec4226",
   "metadata": {},
   "outputs": [
    {
     "name": "stdout",
     "output_type": "stream",
     "text": [
      "Merge track/shower fitting results\n",
      "Get the transverse profiles...\n",
      "Get the longitudinal profiles...\n",
      "We have  111008  PFParticles overall!\n",
      "nMuons:  4259\n",
      "nProtons:  38418\n",
      "nPions:  35421\n",
      "nElectrons:  1999\n",
      "nPhotons:  30911\n"
     ]
    }
   ],
   "source": [
    "longProfiles_start, longProfiles_end, transProfiles, trackVars, showerVars, y = VenusaurusFileHelper.readTree(fileName, nClasses)"
   ]
  },
  {
   "cell_type": "code",
   "execution_count": 5,
   "id": "c1de23ce",
   "metadata": {},
   "outputs": [],
   "source": [
    "# This should shuffle things so that the indicies are still linked\n",
    "longProfiles_start, longProfiles_end, transProfiles, trackVars, showerVars, y = sklearn.utils.shuffle(longProfiles_start, longProfiles_end, transProfiles, trackVars, showerVars, y)"
   ]
  },
  {
   "cell_type": "code",
   "execution_count": 6,
   "id": "800ddae8",
   "metadata": {},
   "outputs": [
    {
     "name": "stdout",
     "output_type": "stream",
     "text": [
      "nTrain:  99907\n",
      "nTest:  11100\n"
     ]
    }
   ],
   "source": [
    "# Work out test/train sample numbers\n",
    "nEntries = longProfiles_start.shape[0]\n",
    "nTrain = math.floor(nEntries * 0.9)\n",
    "nTest = math.floor(nEntries * 0.1)\n",
    "\n",
    "print('nTrain: ', nTrain)\n",
    "print('nTest: ', nTest)"
   ]
  },
  {
   "cell_type": "code",
   "execution_count": 7,
   "id": "6a1057bc",
   "metadata": {},
   "outputs": [],
   "source": [
    "# Profiles\n",
    "longProfiles_start_train = longProfiles_start[:nTrain]\n",
    "longProfiles_end_train = longProfiles_end[:nTrain]\n",
    "transProfiles_train = transProfiles[:nTrain]\n",
    "\n",
    "longProfiles_start_test = longProfiles_start[nTrain:(nTrain + nTest)]\n",
    "longProfiles_end_test = longProfiles_end[nTrain:(nTrain + nTest)]\n",
    "transProfiles_test = transProfiles[nTrain:(nTrain + nTest)]\n",
    "\n",
    "# Track/shower variables\n",
    "trackVars_train = trackVars[:nTrain]    \n",
    "showerVars_train = showerVars[:nTrain]\n",
    "\n",
    "trackVars_test = trackVars[nTrain:(nTrain + nTest)]\n",
    "showerVars_test = showerVars[nTrain:(nTrain + nTest)]\n",
    "\n",
    "# Truth\n",
    "y_train = y[:nTrain]\n",
    "y_test = y[nTrain:(nTrain + nTest)]"
   ]
  },
  {
   "cell_type": "code",
   "execution_count": 8,
   "id": "130b3c83",
   "metadata": {},
   "outputs": [
    {
     "name": "stdout",
     "output_type": "stream",
     "text": [
      "longProfiles_start_train:  (99907, 50, 1)\n",
      "longProfiles_end_train:  (99907, 50, 1)\n",
      "transProfiles_train:  (99907, 20, 1)\n",
      "longitudinalProfile_start_test:  (11100, 50, 1)\n",
      "longitudinalProfile_end_test:  (11100, 50, 1)\n",
      "transverseProfile_test:  (11100, 20, 1)\n",
      "trackVars_train:  (99907, 10)\n",
      "showerVars_train:  (99907, 3)\n",
      "trackVars_test:  (11100, 10)\n",
      "showerVars_test:  (11100, 3)\n",
      "y_train:  (99907, 5)\n",
      "y_test (11100, 5)\n"
     ]
    }
   ],
   "source": [
    "# check everything went smoothly\n",
    "print('longProfiles_start_train: ', longProfiles_start_train.shape)\n",
    "print('longProfiles_end_train: ', longProfiles_end_train.shape)\n",
    "print('transProfiles_train: ', transProfiles_train.shape)\n",
    "\n",
    "print('longitudinalProfile_start_test: ', longProfiles_start_test.shape)\n",
    "print('longitudinalProfile_end_test: ', longProfiles_end_test.shape)\n",
    "print('transverseProfile_test: ', transProfiles_test.shape)\n",
    "\n",
    "# Track/shower vars\n",
    "print('trackVars_train: ', trackVars_train.shape)  \n",
    "print('showerVars_train: ', showerVars_train.shape)  \n",
    "print('trackVars_test: ', trackVars_test.shape)  \n",
    "print('showerVars_test: ', showerVars_test.shape)  \n",
    "\n",
    "# Truth\n",
    "print('y_train: ', y_train.shape)\n",
    "print('y_test', y_test.shape)"
   ]
  },
  {
   "cell_type": "code",
   "execution_count": 9,
   "id": "e26d701a",
   "metadata": {},
   "outputs": [],
   "source": [
    "np.savez(trainVarFile, \n",
    "         longProfiles_start_train = longProfiles_start_train,\n",
    "         longProfiles_end_train = longProfiles_end_train, \n",
    "         transProfiles_train = transProfiles_train,\n",
    "         longProfiles_start_test = longProfiles_start_test,\n",
    "         longProfiles_end_test = longProfiles_end_test,\n",
    "         transProfiles_test = transProfiles_test,\n",
    "         trackVars_train = trackVars_train,\n",
    "         trackVars_test = trackVars_test, \n",
    "         showerVars_train = showerVars_train,\n",
    "         showerVars_test = showerVars_test,\n",
    "         y_train = y_train,\n",
    "         y_test = y_test)"
   ]
  },
  {
   "cell_type": "code",
   "execution_count": null,
   "id": "6dba2eb6",
   "metadata": {},
   "outputs": [],
   "source": []
  }
 ],
 "metadata": {
  "kernelspec": {
   "display_name": "Python 3 (ipykernel)",
   "language": "python",
   "name": "python3"
  },
  "language_info": {
   "codemirror_mode": {
    "name": "ipython",
    "version": 3
   },
   "file_extension": ".py",
   "mimetype": "text/x-python",
   "name": "python",
   "nbconvert_exporter": "python",
   "pygments_lexer": "ipython3",
   "version": "3.11.4"
  }
 },
 "nbformat": 4,
 "nbformat_minor": 5
}

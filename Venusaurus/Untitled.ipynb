{
 "cells": [
  {
   "cell_type": "code",
   "execution_count": 1,
   "id": "38ffd1e8",
   "metadata": {},
   "outputs": [],
   "source": [
    "import numpy as np\n",
    "import math\n",
    "import glob\n",
    "import sys\n",
    "import sklearn \n",
    "\n",
    "from sklearn.utils import class_weight\n",
    "\n",
    "import VenusaurusFileHelper"
   ]
  },
  {
   "cell_type": "code",
   "execution_count": 2,
   "id": "c6974f6b",
   "metadata": {},
   "outputs": [],
   "source": [
    "nClasses = 5"
   ]
  },
  {
   "cell_type": "code",
   "execution_count": 3,
   "id": "714aa34d",
   "metadata": {},
   "outputs": [
    {
     "name": "stdout",
     "output_type": "stream",
     "text": [
      "fileName:  ../files/nue_dune10kt_1x2x6_1106_617_20230826T163359Z_gen_g4_detsim_hitreco_VenusaurusTrainingFiles.root\n"
     ]
    }
   ],
   "source": [
    "file = 'nu/placeholder'\n",
    "\n",
    "fileName = '../files/nue_dune10kt_1x2x6_1106_617_20230826T163359Z_gen_g4_detsim_hitreco_VenusaurusTrainingFiles.root'\n",
    "trainVarFile = '/Users/isobel/Desktop/DUNE/Ivysaurus/Venusaurus/files/' + file + '.npz'\n",
    "\n",
    "print('fileName: ', fileName)"
   ]
  },
  {
   "cell_type": "code",
   "execution_count": 4,
   "id": "6e89bab7",
   "metadata": {},
   "outputs": [
    {
     "name": "stdout",
     "output_type": "stream",
     "text": [
      "We have  8  PFParticles overall!\n",
      "nMuons:  0\n",
      "nProtons:  2\n",
      "nPions:  4\n",
      "nElectrons:  2\n",
      "nPhotons:  0\n"
     ]
    }
   ],
   "source": [
    "longitudinalProfile_start, longitudinalBinIndicies_start, longitudinalProfile_end, longitudinalBinIndicies_end, transverseProfile, transverseBinIndicies, trackVars, showerVars, y = VenusaurusFileHelper.readTree(fileName, nClasses)"
   ]
  },
  {
   "cell_type": "code",
   "execution_count": 5,
   "id": "f3fa39ab",
   "metadata": {},
   "outputs": [],
   "source": [
    "# This should shuffle things so that the indicies are still linked\n",
    "longitudinalProfile_start, longitudinalBinIndicies_start, longitudinalProfile_end, longitudinalBinIndicies_end, transverseProfile, transverseBinIndicies, trackVars, showerVars, y = sklearn.utils.shuffle(longitudinalProfile_start, longitudinalBinIndicies_start, longitudinalProfile_end, longitudinalBinIndicies_end, transverseProfile, transverseBinIndicies, trackVars, showerVars, y)"
   ]
  },
  {
   "cell_type": "code",
   "execution_count": null,
   "id": "351102bd",
   "metadata": {},
   "outputs": [],
   "source": []
  },
  {
   "cell_type": "code",
   "execution_count": 6,
   "id": "c7556cfd",
   "metadata": {},
   "outputs": [
    {
     "name": "stdout",
     "output_type": "stream",
     "text": [
      "nTrain:  7\n",
      "nTest:  0\n"
     ]
    }
   ],
   "source": [
    "# Work out test/train sample numbers\n",
    "nEntries = longitudinalProfile_start.shape[0]\n",
    "nTrain = math.floor(nEntries * 0.9)\n",
    "nTest = math.floor(nEntries * 0.1)\n",
    "\n",
    "print('nTrain: ', nTrain)\n",
    "print('nTest: ', nTest)"
   ]
  },
  {
   "cell_type": "code",
   "execution_count": 7,
   "id": "0330ae75",
   "metadata": {},
   "outputs": [],
   "source": [
    "# Profiles\n",
    "longitudinalProfile_start_train = longitudinalProfile_start[:nTrain]\n",
    "longitudinalBinIndicies_start_train = longitudinalBinIndicies_start[:nTrain]\n",
    "longitudinalProfile_end_train = longitudinalProfile_end[:nTrain]\n",
    "longitudinalBinIndicies_end_train = longitudinalBinIndicies_end[:nTrain]\n",
    "transverseProfile_train = transverseProfile[:nTrain]\n",
    "transverseBinIndicies_train = transverseBinIndicies[:nTrain]\n",
    "\n",
    "longitudinalProfile_start_test = longitudinalProfile_start[nTrain:(nTrain + nTest)]\n",
    "longitudinalBinIndicies_start_test = longitudinalBinIndicies_start[nTrain:(nTrain + nTest)]\n",
    "longitudinalProfile_end_test = longitudinalProfile_end[nTrain:(nTrain + nTest)]\n",
    "longitudinalBinIndicies_end_test = longitudinalBinIndicies_end[nTrain:(nTrain + nTest)]\n",
    "transverseProfile_test = transverseProfile[nTrain:(nTrain + nTest)]\n",
    "transverseBinIndicies_test = transverseBinIndicies[nTrain:(nTrain + nTest)]\n",
    "\n",
    "# Track/shower variables\n",
    "trackVars_train = trackVars[:nTrain]    \n",
    "showerVars_train = showerVars[:nTrain]\n",
    "\n",
    "trackVars_test = trackVars[nTrain:(nTrain + nTest)]\n",
    "showerVars_test = showerVars[nTrain:(nTrain + nTest)]\n",
    "\n",
    "# Truth\n",
    "y_train = y[:nTrain]\n",
    "y_test = y[nTrain:(nTrain + nTest)]"
   ]
  },
  {
   "cell_type": "code",
   "execution_count": 8,
   "id": "51dd4cce",
   "metadata": {},
   "outputs": [
    {
     "name": "stdout",
     "output_type": "stream",
     "text": [
      "longitudinalProfile_start_train:  (7, 50, 1)\n",
      "longitudinalBinIndicies_start_train:  (7, 50, 1)\n",
      "longitudinalProfile_end_train:  (7, 50, 1)\n",
      "longitudinalBinIndicies_end_train:  (7, 50, 1)\n",
      "transverseProfile_train:  (7, 20, 1)\n",
      "transverseBinIndicies_train:  (7, 20, 1)\n",
      "longitudinalProfile_start_test:  (0, 50, 1)\n",
      "longitudinalBinIndicies_start_test:  (0, 50, 1)\n",
      "longitudinalProfile_end_test:  (0, 50, 1)\n",
      "longitudinalBinIndicies_end_test:  (0, 50, 1)\n",
      "transverseProfile_test:  (0, 20, 1)\n",
      "transverseBinIndicies_test:  (0, 20, 1)\n",
      "trackVars_train:  (7, 10)\n",
      "showerVars_train:  (7, 3)\n",
      "trackVars_test:  (0, 10)\n",
      "showerVars_test:  (0, 3)\n",
      "y_train:  (7, 5)\n",
      "y_test (0, 5)\n"
     ]
    }
   ],
   "source": [
    "# check everything went smoothly\n",
    "print('longitudinalProfile_start_train: ', longitudinalProfile_start_train.shape)\n",
    "print('longitudinalBinIndicies_start_train: ', longitudinalBinIndicies_start_train.shape)\n",
    "print('longitudinalProfile_end_train: ', longitudinalProfile_end_train.shape)\n",
    "print('longitudinalBinIndicies_end_train: ', longitudinalBinIndicies_end_train.shape)\n",
    "print('transverseProfile_train: ', transverseProfile_train.shape)\n",
    "print('transverseBinIndicies_train: ', transverseBinIndicies_train.shape)\n",
    "\n",
    "print('longitudinalProfile_start_test: ', longitudinalProfile_start_test.shape)\n",
    "print('longitudinalBinIndicies_start_test: ', longitudinalBinIndicies_start_test.shape)\n",
    "print('longitudinalProfile_end_test: ', longitudinalProfile_end_test.shape)\n",
    "print('longitudinalBinIndicies_end_test: ', longitudinalBinIndicies_end_test.shape)\n",
    "print('transverseProfile_test: ', transverseProfile_test.shape)\n",
    "print('transverseBinIndicies_test: ', transverseBinIndicies_test.shape)\n",
    "\n",
    "# Track/shower vars\n",
    "print('trackVars_train: ', trackVars_train.shape)  \n",
    "print('showerVars_train: ', showerVars_train.shape)  \n",
    "print('trackVars_test: ', trackVars_test.shape)  \n",
    "print('showerVars_test: ', showerVars_test.shape)  \n",
    "\n",
    "# Truth\n",
    "print('y_train: ', y_train.shape)\n",
    "print('y_test', y_test.shape)"
   ]
  },
  {
   "cell_type": "code",
   "execution_count": 9,
   "id": "0c304cb5",
   "metadata": {},
   "outputs": [],
   "source": [
    "np.savez(trainVarFile, \n",
    "         longitudinalProfile_start_train = longitudinalProfile_start_train,\n",
    "         longitudinalBinIndicies_start_train = longitudinalBinIndicies_start_train,\n",
    "         longitudinalProfile_end_train = longitudinalProfile_end_train, \n",
    "         longitudinalBinIndicies_end_train = longitudinalBinIndicies_end_train,\n",
    "         transverseProfile_train = transverseProfile_train,\n",
    "         transverseBinIndicies_train = transverseBinIndicies_train,\n",
    "         longitudinalProfile_start_test = longitudinalProfile_start_test,\n",
    "         longitudinalBinIndicies_start_test = longitudinalBinIndicies_start_test,\n",
    "         longitudinalProfile_end_test = longitudinalProfile_end_test,\n",
    "         longitudinalBinIndicies_end_test = longitudinalBinIndicies_end_test, \n",
    "         transverseProfile_test = transverseProfile_test,\n",
    "         transverseBinIndicies_test = transverseBinIndicies_test,\n",
    "         trackVars_train = trackVars_train,\n",
    "         trackVars_test = trackVars_test, \n",
    "         showerVars_train = showerVars_train,\n",
    "         showerVars_test = showerVars_test,\n",
    "         y_train = y_train,\n",
    "         y_test = y_test)"
   ]
  }
 ],
 "metadata": {
  "kernelspec": {
   "display_name": "Python 3 (ipykernel)",
   "language": "python",
   "name": "python3"
  },
  "language_info": {
   "codemirror_mode": {
    "name": "ipython",
    "version": 3
   },
   "file_extension": ".py",
   "mimetype": "text/x-python",
   "name": "python",
   "nbconvert_exporter": "python",
   "pygments_lexer": "ipython3",
   "version": "3.11.4"
  }
 },
 "nbformat": 4,
 "nbformat_minor": 5
}
